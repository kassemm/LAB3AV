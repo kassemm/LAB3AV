{
  "cells": [
    {
      "cell_type": "markdown",
      "metadata": {
        "id": "view-in-github",
        "colab_type": "text"
      },
      "source": [
        "<a href=\"https://colab.research.google.com/github/kassemm/LAB3AV/blob/master/assignment_classification_Final.ipynb\" target=\"_parent\"><img src=\"https://colab.research.google.com/assets/colab-badge.svg\" alt=\"Open In Colab\"/></a>"
      ]
    },
    {
      "cell_type": "markdown",
      "metadata": {
        "id": "ePLSo3ldhbMO"
      },
      "source": [
        "# Assignment: Classification of Handwritten Digits\n",
        "\n",
        "In this assignment, we will use the $k$-nearest neighbour classifier and a dense neural network (multilayer perceptron) to classify handwritten digits from the MNIST dataset (http://yann.lecun.com/exdb/mnist/).\n",
        "\n"
      ]
    },
    {
      "cell_type": "markdown",
      "metadata": {
        "id": "ZBze6CRBsFs0"
      },
      "source": [
        "## Working together\n",
        "\n",
        "The assignment should be solved in **groups of two**. Copying code from other students, the Internet, or other sources is not allowed (the provided helper code excluded). If you want to work alone, you must have a compelling reason (that convinces us) for doing so."
      ]
    },
    {
      "cell_type": "markdown",
      "metadata": {
        "id": "4ZjTiT1_scVa"
      },
      "source": [
        "## Task\n",
        "\n",
        "You are given a dataset of images of handwritten digits (0 through 9) and the correct answers to train your machine learning models on.\n",
        "\n",
        "You need to divide the images into a training data set, (optionally) a validation data set, and a test set. You may also use cross-validation instead of a validation data set.\n",
        "\n",
        "After training, and after selecting the proper hyper-parameters (the number of neighbors, $k$, the number of layers, the number of neurons, *etc.*), classify the images in the test set to see how accurately your models classify unknown images. **Note**: You should *never* use, look at, or classify the test set until you have selected your final model. You are *not* allowed to continue training or do any model alterations after you have evaluated your models on the test data set.\n",
        "\n",
        "**In order to pass the assignment your solution must correctly classify at least 94 % of the *validation data set images* with the $k$-NN model and at least 97.7 % of the *validation data set images* with the neural network model.**"
      ]
    },
    {
      "cell_type": "markdown",
      "metadata": {
        "id": "EMtJ5wZvB0Ya"
      },
      "source": [
        "## What to hand in\n",
        "\n",
        "You should hand in a complete and well-written report (in `pdf` format) together with your Jupyter notebook electronically in Labres. Only one member per group hands in and marks the other member. **Note**: you cannot change group members after the first hand-in, so make sure you do it correct the first time.\n",
        "\n",
        "The report may be brief (try to keep it under 5 pages) but it is important that you fulfill the following requirements:\n",
        "\n",
        " * The report must have a title page including names and user names (@cs) for all group members, course name, and assignment name.\n",
        " * The report should be as short as possible and as long as necessary. If your report exceeds five pages (incl. the title page), chances are that you are doing something wrong.\n",
        " * Describe how your solution works on a level that does not lose interesting details. Divide the report into two parts (one for $k$-NN, the other for the neural network), and split each part into *implementation*, *results*, and *discussion* subsections.\n",
        "   - Most important is that you describe how your solution works, and why you solved it in a particular way. Clearly state the ranges for your hyper-parameters, and explain why you chose those.\n",
        "   - Explain, and give pseudo-code for your hyper-parameter search. Explain any decisions/choices you've made.\n",
        "   - For the neural network: Plot how the loss evolve during training of your best model, and interpret the plot. The loss is available in the `MLPClassifier` after training.\n",
        "   - Describe how your work went and which problems and issues you faced when developing the program.\n",
        "   - Describe how you divided the work between you.\n",
        "   - Use clear, well written English language.\n",
        "   - You must not include your source code in the report, supply it in the Jupyter notebook.\n",
        "   - **Report your validation scores in the report.**\n",
        "\n",
        "The source code should align to the following:\n",
        "\n",
        " * Comment the code in a reasonable way. Follow the [Docstring conventions](https://peps.python.org/pep-0257/).\n",
        " * Structure your code in a suitable way, such that it is easy to follow what is going on.\n",
        " * Name classes, variables, methods, modules, *etc.*, such that the names clearly describe their function and follow the specifications given above.\n",
        " * The code you hand in should not contain sections that are not used, or unnecessary. Make sure that you understand every part of the code that you hand in.\n",
        " * **Important:** hand in a notebook that contains your execution results, i.e., execute the notebook from scratch (**Kernel** - **Re-start and run all**) and save before you hand in."
      ]
    },
    {
      "cell_type": "markdown",
      "metadata": {
        "id": "DJlFR2GELAxa"
      },
      "source": [
        "## Getting started\n",
        "\n",
        "You can follow [these instructions](https://jupyter.org/install) to install Jupyter Notebook. Then, proceed as follows:\n",
        "\n",
        " - Download this notebook.\n",
        " - Start Jupyter Notebook\n",
        " - Open your saved copy of this notebook\n",
        "\n",
        "Alternatively, you can also use [Google Colab](https://colab.research.google.com/) to work on the assignment \"in the cloud\"."
      ]
    },
    {
      "cell_type": "markdown",
      "metadata": {
        "id": "OBJ704gG_GHP"
      },
      "source": [
        "**Note**: If you take the course Artificial Intelligence in Cognitive Science (5DV201), then set the following variable to `False`:\n",
        "\n"
      ]
    },
    {
      "cell_type": "code",
      "execution_count": 17,
      "metadata": {
        "id": "ua6te8J-_AVQ"
      },
      "outputs": [],
      "source": [
        "course_5DV124 = True"
      ]
    },
    {
      "cell_type": "code",
      "execution_count": 10,
      "metadata": {
        "id": "xHQ45FztdXPa"
      },
      "outputs": [],
      "source": [
        "%%capture\n",
        "# Install the dependencies (in case you use Google Colab, these should be available by default, though)\n",
        "! pip install --user -Iv numpy matplotlib sklearn==0.24.1"
      ]
    },
    {
      "cell_type": "code",
      "execution_count": 2,
      "metadata": {
        "id": "092ZQBfJzALh"
      },
      "outputs": [],
      "source": [
        "import numpy as np\n",
        "np.random.seed(42)  # Set the random seed for reproducible results"
      ]
    },
    {
      "cell_type": "code",
      "execution_count": 3,
      "metadata": {
        "id": "CPqG1Q30qsEB",
        "colab": {
          "base_uri": "https://localhost:8080/"
        },
        "outputId": "036babf6-6f43-493a-9ad5-64cf64bc1811"
      },
      "outputs": [
        {
          "output_type": "stream",
          "name": "stdout",
          "text": [
            "**Author**: Yann LeCun, Corinna Cortes, Christopher J.C. Burges  \n",
            "**Source**: [MNIST Website](http://yann.lecun.com/exdb/mnist/) - Date unknown  \n",
            "**Please cite**:  \n",
            "\n",
            "The MNIST database of handwritten digits with 784 features, raw data available at: http://yann.lecun.com/exdb/mnist/. It can be split in a training set of the first 60,000 examples, and a test set of 10,000 examples  \n",
            "\n",
            "It is a subset of a larger set available from NIST. The digits have been size-normalized and centered in a fixed-size image. It is a good database for people who want to try learning techniques and pattern recognition methods on real-world data while spending minimal efforts on preprocessing and formatting. The original black and white (bilevel) images from NIST were size normalized to fit in a 20x20 pixel box while preserving their aspect ratio. The resulting images contain grey levels as a result of the anti-aliasing technique used by the normalization algorithm. the images were centered in a 28x28 image by computing the center of mass of the pixels, and translating the image so as to position this point at the center of the 28x28 field.  \n",
            "\n",
            "With some classification methods (particularly template-based methods, such as SVM and K-nearest neighbors), the error rate improves when the digits are centered by bounding box rather than center of mass. If you do this kind of pre-processing, you should report it in your publications. The MNIST database was constructed from NIST's NIST originally designated SD-3 as their training set and SD-1 as their test set. However, SD-3 is much cleaner and easier to recognize than SD-1. The reason for this can be found on the fact that SD-3 was collected among Census Bureau employees, while SD-1 was collected among high-school students. Drawing sensible conclusions from learning experiments requires that the result be independent of the choice of training set and test among the complete set of samples. Therefore it was necessary to build a new database by mixing NIST's datasets.  \n",
            "\n",
            "The MNIST training set is composed of 30,000 patterns from SD-3 and 30,000 patterns from SD-1. Our test set was composed of 5,000 patterns from SD-3 and 5,000 patterns from SD-1. The 60,000 pattern training set contained examples from approximately 250 writers. We made sure that the sets of writers of the training set and test set were disjoint. SD-1 contains 58,527 digit images written by 500 different writers. In contrast to SD-3, where blocks of data from each writer appeared in sequence, the data in SD-1 is scrambled. Writer identities for SD-1 is available and we used this information to unscramble the writers. We then split SD-1 in two: characters written by the first 250 writers went into our new training set. The remaining 250 writers were placed in our test set. Thus we had two sets with nearly 30,000 examples each. The new training set was completed with enough examples from SD-3, starting at pattern # 0, to make a full set of 60,000 training patterns. Similarly, the new test set was completed with SD-3 examples starting at pattern # 35,000 to make a full set with 60,000 test patterns. Only a subset of 10,000 test images (5,000 from SD-1 and 5,000 from SD-3) is available on this site. The full 60,000 sample training set is available.\n",
            "\n",
            "Downloaded from openml.org.\n"
          ]
        }
      ],
      "source": [
        "# Load the MNIST dataset (this may take a while)\n",
        "\n",
        "import sklearn.datasets\n",
        "\n",
        "data = sklearn.datasets.fetch_openml(\"mnist_784\")\n",
        "\n",
        "print(data.DESCR)"
      ]
    },
    {
      "cell_type": "code",
      "execution_count": 4,
      "metadata": {
        "id": "cgS9W1g4ztV9",
        "colab": {
          "base_uri": "https://localhost:8080/"
        },
        "outputId": "5baaec47-c889-4dd8-95c6-e63a071b156f"
      },
      "outputs": [
        {
          "output_type": "stream",
          "name": "stdout",
          "text": [
            "Training set size X   : (52500, 784)\n",
            "Training set size y   : (52500,)\n",
            "Validation set size X : (8750, 784)\n",
            "Validation set size y : (8750,)\n",
            "Test set size X       : (8750, 784)\n",
            "Test set size y       : (8750,)\n",
            "Output classes        : {'0', '1', '6', '2', '8', '3', '7', '9', '5', '4'}\n"
          ]
        }
      ],
      "source": [
        "# Split the data into training, (validation), and test set\n",
        "\n",
        "from sklearn.model_selection import train_test_split\n",
        "\n",
        "\n",
        "Xtrain, Xtest, ytrain, ytest = train_test_split(data.data, data.target, test_size=0.25, random_state=1)\n",
        "\n",
        "# You may alternatively skip this / have a combined Xtrain and Xval here and instead use cross-validation below\n",
        "Xtest, Xval, ytest, yval = train_test_split(Xtest, ytest, test_size=0.5, random_state=1)\n",
        "Xtrain =  np.asarray(Xtrain)\n",
        "Xtest =  np.asarray(Xtest)\n",
        "Xval =  np.asarray(Xval)\n",
        "ytrain =  np.asarray(ytrain)\n",
        "Xtytestest =  np.asarray(ytest)\n",
        "yval =  np.asarray(yval)\n",
        "\n",
        "\n",
        "# Note! Do not touch the test data until the very end!\n",
        "\n",
        "print(f\"Training set size X   : {Xtrain.shape}\")\n",
        "print(f\"Training set size y   : {ytrain.shape}\")\n",
        "print(f\"Validation set size X : {Xval.shape}\")\n",
        "print(f\"Validation set size y : {yval.shape}\")\n",
        "print(f\"Test set size X       : {Xtest.shape}\")\n",
        "print(f\"Test set size y       : {ytest.shape}\")\n",
        "print(f\"Output classes        : {set(ytrain)}\")"
      ]
    },
    {
      "cell_type": "code",
      "execution_count": 5,
      "metadata": {
        "id": "2st_Xv3w12Tb",
        "scrolled": true,
        "colab": {
          "base_uri": "https://localhost:8080/",
          "height": 511
        },
        "outputId": "912d8f15-d25e-453d-b3e0-924f815f0ef6"
      },
      "outputs": [
        {
          "output_type": "display_data",
          "data": {
            "text/plain": [
              "<Figure size 864x558 with 8 Axes>"
            ],
            "image/png": "[encoded data removed]"
          },
          "metadata": {
            "needs_background": "light"
          }
        }
      ],
      "source": [
        "# Plot a few images\n",
        "\n",
        "import matplotlib.pyplot as plt\n",
        "%matplotlib inline\n",
        "\n",
        "fig = plt.figure(figsize=(12, 7.75))\n",
        "fig.subplots_adjust(top=0.995,\n",
        "                    bottom=0.115,\n",
        "                    left=0.005,\n",
        "                    right=0.995,\n",
        "                    wspace=0.15,\n",
        "                    hspace=0.005)\n",
        "\n",
        "plot_array = (2, 4)\n",
        "ax = [[None] * plot_array[1]] * plot_array[0]\n",
        "it = 0\n",
        "for i in range(plot_array[0]):\n",
        "    for j in range(plot_array[1]):\n",
        "        ax[i][j] = plt.subplot2grid((2, 4), (i, j), rowspan=1, colspan=1)\n",
        "        ax[i][j].imshow(Xtrain[it, :].reshape((28, 28)))\n",
        "        ax[i][j].set_title(f\"Label: {ytrain[it]}\", fontsize=24)\n",
        "        it += 1"
      ]
    },
    {
      "cell_type": "code",
      "execution_count": 6,
      "metadata": {
        "id": "Xd0OxcEW5mq7",
        "colab": {
          "base_uri": "https://localhost:8080/"
        },
        "outputId": "cd89ef0c-bde8-4216-816f-cb2aa00a17c5"
      },
      "outputs": [
        {
          "output_type": "stream",
          "name": "stdout",
          "text": [
            "Before preprocessing, test data       : min = 0.0, max = 255.0, mean = 33.4, std = 78.7\n",
            "Before preprocessing, validation data : min = 0.0, max = 255.0, mean = 33.2, std = 78.5\n",
            "Before preprocessing, test data       : min = 0.0, max = 255.0, mean = 33.3, std = 78.6\n",
            "After preprocessing, test data        : min = -1.0, max = 1.0, mean = -0.7, std = 0.6\n",
            "After preprocessing, validation data  : min = -1.0, max = 31.0, mean = -0.7, std = 0.6\n",
            "After preprocessing, test data        : min = -1.0, max = 225.0, mean = -0.7, std = 0.6\n"
          ]
        }
      ],
      "source": [
        "# Preprocess the data\n",
        "\n",
        "import sklearn.preprocessing\n",
        "\n",
        "print(f\"Before preprocessing, test data       : \"\n",
        "      f\"min = {np.min(Xtrain):.1f}, \"\n",
        "      f\"max = {np.max(Xtrain):.1f}, \"\n",
        "      f\"mean = {np.mean(Xtrain):.1f}, \"\n",
        "      f\"std = {np.std(Xtrain):.1f}\")\n",
        "print(f\"Before preprocessing, validation data : \"\n",
        "      f\"min = {np.min(Xval):.1f}, \"\n",
        "      f\"max = {np.max(Xval):.1f}, \"\n",
        "      f\"mean = {np.mean(Xval):.1f}, \"\n",
        "      f\"std = {np.std(Xval):.1f}\")\n",
        "print(f\"Before preprocessing, test data       : \"\n",
        "      f\"min = {np.min(Xtest):.1f}, \"\n",
        "      f\"max = {np.max(Xtest):.1f}, \"\n",
        "      f\"mean = {np.mean(Xtest):.1f}, \"\n",
        "      f\"std = {np.std(Xtest):.1f}\")\n",
        "\n",
        "scaler = sklearn.preprocessing.MinMaxScaler(feature_range=(-1, 1))\n",
        "scaler.fit(Xtrain)  # Every statistic we compute is found on the training data!\n",
        "\n",
        "Xtrain = scaler.transform(Xtrain)\n",
        "Xval = scaler.transform(Xval)\n",
        "# TODO: If you do cross-validation, you must redo this on the training data in\n",
        "#       each cross-validation loop, and then transform the validation data as\n",
        "#       well!\n",
        "Xtest = scaler.transform(Xtest)\n",
        "\n",
        "print(f\"After preprocessing, test data        : \"\n",
        "      f\"min = {np.min(Xtrain):.1f}, \"\n",
        "      f\"max = {np.max(Xtrain):.1f}, \"\n",
        "      f\"mean = {np.mean(Xtrain):.1f}, \"\n",
        "      f\"std = {np.std(Xtrain):.1f}\")\n",
        "print(f\"After preprocessing, validation data  : \"\n",
        "      f\"min = {np.min(Xval):.1f}, \"\n",
        "      f\"max = {np.max(Xval):.1f}, \"\n",
        "      f\"mean = {np.mean(Xval):.1f}, \"\n",
        "      f\"std = {np.std(Xval):.1f}\")\n",
        "print(f\"After preprocessing, test data        : \"\n",
        "      f\"min = {np.min(Xtest):.1f}, \"\n",
        "      f\"max = {np.max(Xtest):.1f}, \"\n",
        "      f\"mean = {np.mean(Xtest):.1f}, \"\n",
        "      f\"std = {np.std(Xtest):.1f}\")\n",
        "\n",
        "# TODO: Try to apply other preprocessing, e.g. the\n",
        "#       sklearn.preprocessing.StandardScaler(), and see if the results improve."
      ]
    },
    {
      "cell_type": "markdown",
      "metadata": {
        "id": "_I-L0BtiwOMO"
      },
      "source": [
        "### The $k$-NN model\n",
        "\n",
        "If you take the course **5DV124**, then you will have to implement the $k$-NN classifier yourself. The below implementation uses the scikit-learn implementation of the $k$-NN classifier, but you need to do it yourself.\n",
        "\n",
        "If you take the course **5DV201**, then you can use the $k$-NN classifier from scikit-learn directly. You are of course free to also implement the $k$-NN classifier yourself, if you want to do that.\n",
        "\n",
        "In both cases, you need to perform a hyper-parameter search for the optimal number of neighbours, $k$."
      ]
    },
    {
      "cell_type": "code",
      "execution_count": 18,
      "metadata": {
        "id": "MMyn4Pt679bv"
      },
      "outputs": [],
      "source": [
        "# Create the k-NN classifier\n",
        "\n",
        "import sklearn.neighbors\n",
        "\n",
        "\"\"\" To record the most recurring values in k_neighbors lists, we can use mode \"\"\"\n",
        "\n",
        "\n",
        "if course_5DV124:\n",
        "    # TODO: Create your own nearest neighbour classifier:\n",
        "    class KNeighborsClassifier(sklearn.neighbors.KNeighborsClassifier):\n",
        "        def __init__(self, n_neighbors):\n",
        "            super().__init__(n_neighbors=n_neighbors)\n",
        "            self.n_neighbors = n_neighbors                                      \n",
        "            \n",
        "\n",
        "        def fit(self, X, y):\n",
        "            # TODO: You need to implement this yourself.\n",
        "            # Should manipulate (if needed) and return `self` in your implementation.\n",
        "            # Note that `self` is the Java and JS-equivalent of `this`, roughly speaking,\n",
        "            # i.e. it refers to the current instance of your class\n",
        "            self.Xtrain = X\n",
        "            self.ytrain = y      \n",
        "          \n",
        "        def predict(self, X):\n",
        "            # TODO: You need to implement this yourself.\n",
        "            # Should manipulate and return `self` in your implementation.\n",
        "            self.k_neighbors = []\n",
        "            for x in X:\n",
        "                distances = self.euclidean_distance(x, self.Xtrain)   \n",
        "                y_predict = []\n",
        "                for index in range(len(distances)-1):\n",
        "                    y_predict.append((distances[index],self.ytrain[index]))\n",
        "                targeted_y = []\n",
        "                for _, y in sorted(y_predict):\n",
        "                    targeted_y.append(y)           \n",
        "                self.k_neighbors.append(targeted_y[:self.n_neighbors])\n",
        "                \n",
        "            recurring_k_neighbors = []\n",
        "            for neighbor in self.k_neighbors:\n",
        "                recurring_k_neighbors.append(max(np.unique(neighbor), key=neighbor.count))\n",
        "     \n",
        "            return recurring_k_neighbors    \n",
        "  \n",
        "        def euclidean_distance(self, eval, train):\n",
        "            return np.sum((eval - train)**2, axis=1 )** 0.5        \n",
        "           \n",
        "            \n",
        "else:  # This is used if you take the course 5DV201\n",
        "    import sklearn.neighbors.KNeighborsClassifier as KNeighborsClassifier"
      ]
    },
    {
      "cell_type": "code",
      "execution_count": null,
      "metadata": {
        "id": "dthm7XkJdXPg",
        "outputId": "b2f20924-d0eb-4bc5-8ced-e20d90115203"
      },
      "outputs": [
        {
          "name": "stdout",
          "output_type": "stream",
          "text": [
            "Number of neighbours: k=1, validation accuracy: 0.9704\n",
            "Number of neighbours: k=2, validation accuracy: 0.9660571428571428\n",
            "Number of neighbours: k=3, validation accuracy: 0.9707428571428571\n",
            "Number of neighbours: k=4, validation accuracy: 0.9690285714285715\n",
            "Number of neighbours: k=5, validation accuracy: 0.9690285714285715\n",
            "Number of neighbours: k=6, validation accuracy: 0.9665142857142857\n",
            "Number of neighbours: k=7, validation accuracy: 0.9665142857142857\n",
            "Number of neighbours: k=8, validation accuracy: 0.9667428571428571\n",
            "Number of neighbours: k=9, validation accuracy: 0.9652571428571428\n",
            "Grid search done!\n"
          ]
        }
      ],
      "source": [
        "# Perform grid search to find the number of neighbours, K\n",
        "\n",
        "\n",
        "k_max = 10  # Set the maximum number of neighbours considered\n",
        "errs_val = []\n",
        "\n",
        "\n",
        "for k in range(1, k_max): \n",
        "    model = KNeighborsClassifier(k)\n",
        "    \n",
        "# TODO: The distance computations may take a long time. Play with different\n",
        "#       amounts of data here to see what's feasible for you. Get it to work\n",
        "#       on a small amount of data, and then run for a longer time with more\n",
        "#       data. You may not be able to use all data with the k-NN method,\n",
        "#       depending on the computer you have for this.\n",
        "\n",
        "# \"\"\"\n",
        "# Less amount of data is used for initial screening of best k value.\n",
        "# We'll have fair idea at a decent amount of data chunk, which k value, we get best score at\n",
        "# \"\"\"\n",
        "    \n",
        "    model.fit(Xtrain, ytrain)        \n",
        "    err = model.score(Xval, yval)  \n",
        "    print(f\"Number of neighbours: k={k}, validation accuracy: {err}\")\n",
        "    errs_val.append(err)\n",
        "    \n",
        "print(\"Grid search done!\")\n"
      ]
    },
    {
      "cell_type": "code",
      "execution_count": null,
      "metadata": {
        "id": "RUzpOWkpczOi",
        "outputId": "9f9e403e-01c8-4deb-cd43-df491f4603dc"
      },
      "outputs": [
        {
          "data": {
            "text/plain": [
              "Text(0, 0.5, 'Validation Accuracy')"
            ]
          },
          "execution_count": 9,
          "metadata": {},
          "output_type": "execute_result"
        },
        {
          "data": {
            "image/png": "[encoded data removed]",
            "text/plain": [
              "<Figure size 576x360 with 1 Axes>"
            ]
          },
          "metadata": {
            "needs_background": "light"
          },
          "output_type": "display_data"
        }
      ],
      "source": [
        "# Plot the accuracy curve as a function of k\n",
        "\n",
        "fig = plt.figure(figsize=(8, 5))\n",
        "fig.subplots_adjust(top=0.995,\n",
        "                    bottom=0.115,\n",
        "                    left=0.005,\n",
        "                    right=0.995,\n",
        "                    wspace=0.15,\n",
        "                    hspace=0.005)\n",
        "\n",
        "ax0 = plt.subplot2grid((1, 1), (0, 0), rowspan=1, colspan=1)\n",
        "ax0.plot(range(1, len(errs_val) + 1), errs_val)\n",
        "ax0.set_title(\"Result of $k$-NN Grid-Search\", fontsize=24)\n",
        "ax0.set_xlabel(\"Number of Neighbours, $k$\", fontsize=16)\n",
        "ax0.set_ylabel(\"Validation Accuracy\", fontsize=16)"
      ]
    },
    {
      "cell_type": "code",
      "execution_count": null,
      "metadata": {
        "id": "FO2nAY0WvzJ5",
        "outputId": "48f73f6e-c0d4-43be-a443-2e91df852689"
      },
      "outputs": [
        {
          "name": "stdout",
          "output_type": "stream",
          "text": [
            "The best value was 0.9707428571428571, found using k=3.\n",
            "Final validation accuracy: 0.9707428571428571\n"
          ]
        }
      ],
      "source": [
        "# Train the final k-NN model with the best value for k\n",
        "\n",
        "k_best = np.argmax(errs_val) + 1  # Note that k=1 is at index 0.\n",
        "print(f\"The best value was {errs_val[k_best - 1]}, found using k={k_best}.\")\n",
        "\n",
        "model_knn = KNeighborsClassifier(n_neighbors=k_best)\n",
        "model_knn.fit(Xtrain, ytrain)\n",
        "err = model_knn.score(Xval, yval)\n",
        "print(f\"Final validation accuracy: {err}\")"
      ]
    },
    {
      "cell_type": "markdown",
      "metadata": {
        "id": "ESiZjUNjxy7b"
      },
      "source": [
        "### The neural network model\n",
        "\n",
        "We will use the neural networks (multilayer perceptrons) implemented in scikit-learn. You need to find the optimal number of layers, the number of neurons in each of the layers, and any other hyper-parameters that may be relevant."
      ]
    },
    {
      "cell_type": "code",
      "execution_count": null,
      "metadata": {
        "id": "lus0j2dcdXPh",
        "outputId": "1b1e6572-9085-4887-a047-a1b0ddf87e84"
      },
      "outputs": [
        {
          "name": "stdout",
          "output_type": "stream",
          "text": [
            "Hidden layer sizes: (300, 240, 200, 140), using: sgd, validation accuracy: 0.9710857142857143\n",
            "Hidden layer sizes: (300, 240, 200, 140), using: sgd, validation accuracy: 0.8689142857142858\n",
            "Hidden layer sizes: (300, 240, 200, 140), using: sgd, validation accuracy: 0.9749714285714286\n",
            "Hidden layer sizes: (300, 240, 200, 140), using: sgd, validation accuracy: 0.9694857142857143\n",
            "Hidden layer sizes: (300, 240, 200, 140), using: sgd, validation accuracy: 0.86\n",
            "Hidden layer sizes: (300, 240, 200, 140), using: sgd, validation accuracy: 0.9731428571428572\n",
            "Hidden layer sizes: (180, 140, 100), using: sgd, validation accuracy: 0.9707428571428571\n",
            "Hidden layer sizes: (180, 140, 100), using: sgd, validation accuracy: 0.8617142857142858\n",
            "Hidden layer sizes: (180, 140, 100), using: sgd, validation accuracy: 0.9718857142857142\n",
            "Hidden layer sizes: (180, 140, 100), using: sgd, validation accuracy: 0.9691428571428572\n",
            "Hidden layer sizes: (180, 140, 100), using: sgd, validation accuracy: 0.8369142857142857\n",
            "Hidden layer sizes: (180, 140, 100), using: sgd, validation accuracy: 0.9709714285714286\n",
            "Hidden layer sizes: (160, 90), using: sgd, validation accuracy: 0.9595428571428571\n",
            "Hidden layer sizes: (160, 90), using: sgd, validation accuracy: 0.8430857142857143\n",
            "Hidden layer sizes: (160, 90), using: sgd, validation accuracy: 0.9726857142857143\n",
            "Hidden layer sizes: (160, 90), using: sgd, validation accuracy: 0.9710857142857143\n",
            "Hidden layer sizes: (160, 90), using: sgd, validation accuracy: 0.8460571428571428\n",
            "Hidden layer sizes: (160, 90), using: sgd, validation accuracy: 0.9698285714285714\n",
            "Hidden layer sizes: (300, 240, 200, 140), using: adam, validation accuracy: 0.9704\n",
            "Hidden layer sizes: (300, 240, 200, 140), using: adam, validation accuracy: 0.9801142857142857\n",
            "Hidden layer sizes: (180, 140, 100), using: adam, validation accuracy: 0.9724571428571429\n",
            "Hidden layer sizes: (180, 140, 100), using: adam, validation accuracy: 0.9770285714285715\n",
            "Hidden layer sizes: (160, 90), using: adam, validation accuracy: 0.9700571428571428\n",
            "Hidden layer sizes: (160, 90), using: adam, validation accuracy: 0.9746285714285714\n",
            "Grid search done!\n"
          ]
        }
      ],
      "source": [
        "import sklearn.neural_network\n",
        "\n",
        "# TODO: Perform grid search to find the number of layers, the number of neurons\n",
        "#       in each layer, etc.\n",
        "\n",
        "# Set the maximum and minimum number of neurons for each layer.\n",
        "# hidden_layer_sizes_min = [200, 100]\n",
        "# hidden_layer_sizes_max = [300, 200]\n",
        "# TODO: Try different numbers of layers and different numbers of neurons.\n",
        "\n",
        "# TODO: You may have to test other hyper-parameters than just the number of\n",
        "#       layers and the number of artificial neurons in each layer. It might be\n",
        "#       worth varying the learning rate as well, for instance.\n",
        "\n",
        "\n",
        "\"\"\" To keep track of the best possible hyperparameters for SGD, we introduced our variables\"\"\"\n",
        "\n",
        "best_hidden_layer_sizes_SGD = ()\n",
        "best_score_SGD = -1\n",
        "\n",
        "best_function_SGD = ' '\n",
        "\n",
        "best_activation_SGD = ' '\n",
        "\n",
        "best_learning_rate = ' '\n",
        "\n",
        "\n",
        "\n",
        "\"\"\" To keep track of the best possible hyperparameters for ADAM, we introduced our variables\"\"\"\n",
        "\n",
        "best_hidden_layer_sizes_ADAM = ()\n",
        "\n",
        "best_score_ADAM = -1\n",
        "\n",
        "best_function_ADAM = ' '\n",
        "\n",
        "best_activation_ADAM = ' '\n",
        "\n",
        "\"\"\" An SGD dictionary for recording layer and score pairs \"\"\"\n",
        "errs_val_1 = {}\n",
        "\n",
        "\"\"\" An ADAM dictionary for recording layer and score pairs \"\"\"\n",
        "errs_val_2 = {}\n",
        "\n",
        "# errs_val = {}\n",
        "# num_neurons_1 = 100\n",
        "# num_neurons_2 = 100\n",
        "# # num_neurons_3 = 100\n",
        "\n",
        "# TODO: The computations may take a long time here as well. Play with\n",
        "#       different amounts of data to see what's feasible on your\n",
        "#       computer. Get it to work on a small amount of data first, and\n",
        "#       then run for a longer time with more data. More data here will\n",
        "#       improve the results. Using all data may take a long time, but\n",
        "#       will give good results.\n",
        "\n",
        "\"\"\"simulated four models with each comprising different no. of layers and neurons\"\"\"\n",
        "\n",
        "hidden_layer_sizes = [(300, 240, 200, 140), (180,140,100), (160, 90)]\n",
        "\n",
        "\"\"\"Out of four available activation functions used two which seem more relevant with the classification problem at hand\"\"\"\n",
        "\n",
        "activation = ['tanh', 'relu']\n",
        "\n",
        "\"\"\"Out of three available solver functions used two which seem more relevant with the classification problem at hand\"\"\"\n",
        "\n",
        "solver = ['sgd', 'adam']\n",
        "\n",
        "\"\"\"Learning rate is only used solver='sgd' as per sklearn.neural_network.MLPClassifier documentation\"\"\"\n",
        "\n",
        "learning_rate= ['constant', 'invscaling', 'adaptive']\n",
        "\n",
        "\"\"\"Loops to iterate through above mentioned hyperparameters\"\"\"\n",
        "\n",
        "\"\"\"SGD is trained at 300 iterations as at certain hyperparameters, \n",
        "it takes more iteration to converge to possible optimized value\n",
        "\"\"\"\n",
        "for sol in solver:\n",
        "    for layer in hidden_layer_sizes:\n",
        "        for act in activation:\n",
        "            if sol == 'sgd':\n",
        "                for lr in learning_rate:\n",
        "                    model = sklearn.neural_network.MLPClassifier(\n",
        "                        hidden_layer_sizes=layer,\n",
        "                        activation= act,\n",
        "                        solver= 'sgd',\n",
        "                        alpha=0.0001,\n",
        "                        batch_size='auto',\n",
        "                        learning_rate_init=0.001,\n",
        "                        learning_rate=lr,\n",
        "                        early_stopping=True,\n",
        "                        max_iter=300,\n",
        "                    )\n",
        "\n",
        "# TODO: The computations may take a long time here as well. Play with\n",
        "#       different amounts of data to see what's feasible on your\n",
        "#       computer. Get it to work on a small amount of data first, and\n",
        "#       then run for a longer time with more data. More data here will\n",
        "#       improve the results. Using all data may take a long time, but\n",
        "#       will give good results.                    \n",
        "                    \n",
        "                    model.fit(Xtrain, ytrain)\n",
        "        \n",
        "# NOTE: You need to adjust this when you extend your search space and also consider\n",
        "# hyperparameters like learning rate\n",
        "\n",
        "                    err = model.score(Xval, yval)\n",
        "        \n",
        "                    if err > best_score_SGD:\n",
        "                        best_hidden_layer_sizes_SGD = layer\n",
        "                        best_score_SGD = err\n",
        "                        best_function_SGD = sol\n",
        "                        best_activation_SGD = act\n",
        "                        best_learning_rate = lr\n",
        "        \n",
        "                    print(f\"Hidden layer sizes: {layer}, \"\n",
        "                          f\"using: {sol}, \"\n",
        "                          f\"validation accuracy: {err}\")\n",
        "                    errs_val_1[layer] = err\n",
        "                    \n",
        "            else:\n",
        "                model = sklearn.neural_network.MLPClassifier(\n",
        "                    hidden_layer_sizes=layer,\n",
        "                    activation= act,\n",
        "                    alpha=0.0001,\n",
        "                    batch_size='auto',\n",
        "                    learning_rate_init=0.001,\n",
        "                    max_iter=200,\n",
        "                )\n",
        "            \n",
        "                model.fit(Xtrain, ytrain)\n",
        "                err = model.score(Xval, yval)\n",
        "        \n",
        "                if err > best_score_ADAM:\n",
        "                        best_hidden_layer_sizes_ADAM = layer\n",
        "                        best_score_ADAM = err\n",
        "                        best_function_ADAM = sol\n",
        "                        best_activation_ADAM = act\n",
        "                        \n",
        "        \n",
        "                print(f\"Hidden layer sizes: {layer}, \"\n",
        "                      f\"using: {sol}, \"\n",
        "                      f\"validation accuracy: {err}\")\n",
        "                errs_val_2[layer] = err\n",
        "\n",
        "print(\"Grid search done!\")    \n",
        "        \n",
        "     "
      ]
    },
    {
      "cell_type": "code",
      "execution_count": null,
      "metadata": {
        "id": "uhc--ngVdXPh",
        "outputId": "dd788974-59c1-4a31-f2f4-72387896033e"
      },
      "outputs": [
        {
          "name": "stdout",
          "output_type": "stream",
          "text": [
            "The best value was 97.49714285714286% found using layer sizes: (300, 240, 200, 140).\r\n",
            " with the help of solver: sgd \r\n",
            " and with the help of activation function : tanh, and with the help of learning rate : adaptive, \n"
          ]
        }
      ],
      "source": [
        "## best values for 'sgd' solver\n",
        "\n",
        "print(f\"The best value was {best_score_SGD*100}%\",\n",
        "      f\"found using layer sizes: {best_hidden_layer_sizes_SGD}.\\r\\n\",\n",
        "     f\"with the help of solver: {best_function_SGD} \\r\\n\",\n",
        "     f\"and with the help of activation function : {best_activation_SGD}, \"\n",
        "     f\"and with the help of learning rate : {best_learning_rate}, \")"
      ]
    },
    {
      "cell_type": "code",
      "execution_count": null,
      "metadata": {
        "id": "kYRmbH1OdXPi",
        "outputId": "efcafcf7-7c34-49da-cb4b-3dc14fc147e1"
      },
      "outputs": [
        {
          "name": "stdout",
          "output_type": "stream",
          "text": [
            "The best value was 98.01142857142857% found using layer sizes: (300, 240, 200, 140).\r\n",
            " with the help of solver: adam \r\n",
            " and with the help of activation function : relu.\n"
          ]
        }
      ],
      "source": [
        "## best values for 'adam' solver\n",
        "\n",
        "print(f\"The best value was {best_score_ADAM*100}%\",\n",
        "      f\"found using layer sizes: {best_hidden_layer_sizes_ADAM}.\\r\\n\",\n",
        "     f\"with the help of solver: {best_function_ADAM} \\r\\n\",\n",
        "     f\"and with the help of activation function : {best_activation_ADAM}.\")"
      ]
    },
    {
      "cell_type": "markdown",
      "metadata": {
        "id": "_iqH_Kj24hDG"
      },
      "source": [
        "Once we have selected our final model, we can compute the test error on the final models as the last thing we do. Make sure to only do this at the very end, after you have selected the best models you can find."
      ]
    },
    {
      "cell_type": "code",
      "source": [
        "best_score_ADAM =1;\n",
        "best_score_SGD=0;\n",
        "\n",
        "best_hidden_layer_sizes_ADAM = (300, 240, 200, 140)\n",
        "best_activation_ADAM ='relu'\n",
        "solver = 'adam'\n",
        "k_best=3;\n",
        "model_knn = KNeighborsClassifier(n_neighbors=k_best)\n",
        "model_knn.fit(Xtrain, ytrain)\n",
        "#Using this part because of the difficulty of running the notebook one time at once on google colab. So we got the results from the previos parts and then hard-coded them "
      ],
      "metadata": {
        "id": "EAWCOff9reqf"
      },
      "execution_count": 27,
      "outputs": []
    },
    {
      "cell_type": "code",
      "execution_count": 30,
      "metadata": {
        "id": "vuQfK309lkf4",
        "colab": {
          "base_uri": "https://localhost:8080/"
        },
        "outputId": "8c5e5aba-4bb5-4085-b865-308c68712275"
      },
      "outputs": [
        {
          "output_type": "stream",
          "name": "stdout",
          "text": [
            "k-NN model training data accuracy  : 0.9856761904761905\n"
          ]
        }
      ],
      "source": [
        "# Evaluate the final model on all the data sets, including the test data. We\n",
        "# only evaluate the test data once, and as the last thing we do. If you train\n",
        "# another model after this, based on the performance on the test data, then your\n",
        "# test data is effectively a validation dataset, and you no longer have a test\n",
        "# dataset. (Or, if you keep your test data set, then your results are biased and\n",
        "# by that unreliable.)\n",
        "print(f\"k-NN model training data accuracy  : {model_knn.score(Xtrain, ytrain)}\")\n",
        "\n",
        "\n"
      ]
    },
    {
      "cell_type": "code",
      "source": [
        "print(f\"k-NN model validation data accuracy: {model_knn.score(Xval, yval)}\")\n",
        "if course_5DV124:  # Change this to True as the very last thing you do!\n",
        "    print(f\"k-NN model test data accuracy      : \"\n",
        "          f\"{model_knn.score(Xtest, ytest)}\")"
      ],
      "metadata": {
        "colab": {
          "base_uri": "https://localhost:8080/"
        },
        "id": "uYy3H-IvjJrC",
        "outputId": "8c1e2c3a-db7e-40cb-acf3-4d69bac1805f"
      },
      "execution_count": 31,
      "outputs": [
        {
          "output_type": "stream",
          "name": "stdout",
          "text": [
            "k-NN model validation data accuracy: 0.9707428571428571\n",
            "k-NN model test data accuracy      : 0.9716571428571429\n"
          ]
        }
      ]
    },
    {
      "cell_type": "code",
      "execution_count": 28,
      "metadata": {
        "colab": {
          "base_uri": "https://localhost:8080/",
          "height": 331
        },
        "id": "PRYJvICmdXPj",
        "outputId": "a51f410e-d85a-4b7e-eb63-e79b2f3144c5"
      },
      "outputs": [
        {
          "output_type": "display_data",
          "data": {
            "text/plain": [
              "<Figure size 432x288 with 1 Axes>"
            ],
            "image/png": "[encoded data removed]"
          },
          "metadata": {
            "needs_background": "light"
          }
        },
        {
          "output_type": "stream",
          "name": "stdout",
          "text": [
            "ANN model training data accuracy  : 99.70095238095237%\n",
            "ANN model validation data accuracy : 97.73714285714286%\n",
            "ANN model test data accuracy : 97.76%\n"
          ]
        }
      ],
      "source": [
        "import matplotlib.pyplot as plt\n",
        "import sklearn.neural_network\n",
        "# Train the final model using the best layer sizes\n",
        "\n",
        "\"\"\"To train a model based on the best hyperparameters and to generalize for the best solver in the result oftraining process\"\"\"\n",
        "\n",
        "if best_score_SGD > best_score_ADAM:\n",
        "    model_ann = sklearn.neural_network.MLPClassifier(\n",
        "        hidden_layer_sizes=hidden_layer_sizes_best_SGD,\n",
        "        activation= best_activation_SGD,\n",
        "        solver= 'sgd',\n",
        "        alpha=0.0001,\n",
        "        batch_size='auto',\n",
        "        learning_rate_init=0.001,\n",
        "        learning_rate=best_learning_rate,\n",
        "        early_stopping=True,\n",
        "        max_iter=300,\n",
        "    )\n",
        "    model_ann.fit(Xtrain, ytrain)\n",
        "    err = model_ann.score(Xval, yval)\n",
        "    print(f\"ANN model training data accuracy  : {model_ann.score(Xtrain, ytrain)*100}%\")\n",
        "    print(f\"ANN model validation data accuracy : {model_ann.score(Xval, yval)*100}%\")\n",
        "    print(f\"ANN model test data accuracy : \"\n",
        "          f\"{model_ann.score(Xtest, ytest)*100}%\")\n",
        "\n",
        "else:\n",
        "    model_ann = sklearn.neural_network.MLPClassifier(\n",
        "        hidden_layer_sizes= best_hidden_layer_sizes_ADAM,\n",
        "        activation= best_activation_ADAM,\n",
        "        alpha=0.0001,\n",
        "        batch_size='auto',\n",
        "        learning_rate_init=0.001,\n",
        "        max_iter=200,\n",
        "    )\n",
        "    \n",
        "    model_ann.fit(Xtrain, ytrain)\n",
        "    err = model_ann.score(Xval, yval)\n",
        "                          \n",
        "    loss_values = model_ann.loss_curve_\n",
        "    plt.plot(loss_values)\n",
        "    plt.xlabel('Iterations')\n",
        "    plt.ylabel('Loss')\n",
        "    plt.show()\n",
        "    print(f\"ANN model training data accuracy  : {model_ann.score(Xtrain, ytrain)*100}%\")\n",
        "    print(f\"ANN model validation data accuracy : {model_ann.score(Xval, yval)*100}%\")\n",
        "    print(f\"ANN model test data accuracy : \"\n",
        "          f\"{model_ann.score(Xtest, ytest)*100}%\")\n",
        "    "
      ]
    }
  ],
  "metadata": {
    "colab": {
      "collapsed_sections": [],
      "provenance": [],
      "include_colab_link": true
    },
    "kernelspec": {
      "display_name": "Python 3",
      "language": "python",
      "name": "python3"
    },
    "language_info": {
      "codemirror_mode": {
        "name": "ipython",
        "version": 3
      },
      "file_extension": ".py",
      "mimetype": "text/x-python",
      "name": "python",
      "nbconvert_exporter": "python",
      "pygments_lexer": "ipython3",
      "version": "3.8.5"
    }
  },
  "nbformat": 4,
  "nbformat_minor": 0
}